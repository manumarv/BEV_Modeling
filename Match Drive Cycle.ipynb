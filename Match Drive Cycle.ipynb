{
 "cells": [
  {
   "cell_type": "code",
   "execution_count": null,
   "metadata": {},
   "outputs": [],
   "source": [
    "import numpy as np\n",
    "import pandas as pd\n",
    "\n",
    "# Load speed data\n",
    "data = pd.read_csv('drivecycle_speeds.csv')  # Assuming columns are 'time' and 'speed'\n",
    "\n",
    "# Calculate time differences\n",
    "data['time_diff'] = data['time'].diff().fillna(0)\n",
    "\n",
    "# Convert speed from mph to mps (if necessary)\n",
    "data['speed_mps'] = data['speed'] * 0.44704\n",
    "\n",
    "# Calculate distance for each time interval\n",
    "data['distance'] = data['speed_mps'] * data['time_diff']\n",
    "\n",
    "# Calculate cumulative distance\n",
    "data['cumulative_distance'] = data['distance'].cumsum()\n",
    "\n",
    "data.to_csv('drivecycle_with_distance.csv', index=False)\n"
   ]
  }
 ],
 "metadata": {
  "language_info": {
   "name": "python"
  }
 },
 "nbformat": 4,
 "nbformat_minor": 2
}
